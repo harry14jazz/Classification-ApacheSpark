{
 "cells": [
  {
   "cell_type": "markdown",
   "metadata": {},
   "source": [
    "## Import modules and create a spark session"
   ]
  },
  {
   "cell_type": "code",
   "execution_count": 2,
   "metadata": {},
   "outputs": [],
   "source": [
    "#import modules\n",
    "from pyspark.sql.types import *\n",
    "from pyspark.sql.functions import *\n",
    "from pyspark.ml.classification import LogisticRegression\n",
    "from pyspark.ml.feature import VectorAssembler\n",
    "\n",
    "#create Spark session\n",
    "appName = \"Classification in Spark\"\n",
    "spark = SparkSession \\\n",
    "    .builder \\\n",
    "    .appName(appName) \\\n",
    "    .config(\"spark.some.config.option\",\"some-value\") \\\n",
    "    .getOrCreate()"
   ]
  },
  {
   "cell_type": "markdown",
   "metadata": {},
   "source": [
    "## Read data file into Spark dataFrame"
   ]
  },
  {
   "cell_type": "code",
   "execution_count": 3,
   "metadata": {},
   "outputs": [
    {
     "name": "stdout",
     "output_type": "stream",
     "text": [
      "+----------+---------+-------+---------------+-------------+--------+--------+\n",
      "|DayOfMonth|DayOfWeek|Carrier|OriginAirportID|DestAirportID|DepDelay|ArrDelay|\n",
      "+----------+---------+-------+---------------+-------------+--------+--------+\n",
      "|        19|        5|     DL|          11433|        13303|      -3|       1|\n",
      "|        19|        5|     DL|          14869|        12478|       0|      -8|\n",
      "|        19|        5|     DL|          14057|        14869|      -4|     -15|\n",
      "+----------+---------+-------+---------------+-------------+--------+--------+\n",
      "only showing top 3 rows\n",
      "\n"
     ]
    }
   ],
   "source": [
    "#define our schema\n",
    "flightSchema = StructType([\n",
    "    StructField(\"DayOfMonth\", IntegerType(), False),\n",
    "    StructField(\"DayOfWeek\", IntegerType(), False),\n",
    "    StructField(\"Carrier\", StringType(), False),\n",
    "    StructField(\"OriginAirportID\", IntegerType(), False),\n",
    "    StructField(\"DestAirportID\", IntegerType(), False),\n",
    "    StructField(\"DepDelay\", IntegerType(), False),\n",
    "    StructField(\"ArrDelay\", IntegerType(), False),\n",
    "])\n",
    "\n",
    "#read csv data with our defined schema\n",
    "flightDataFrame = spark.read.csv('dataset/flights.csv', schema=flightSchema, header=True)\n",
    "flightDataFrame.show(3)"
   ]
  },
  {
   "cell_type": "markdown",
   "metadata": {},
   "source": [
    "## Select an important data for classification features and change arrival delay into binary class \"late\" vs \"not late\""
   ]
  },
  {
   "cell_type": "code",
   "execution_count": 4,
   "metadata": {},
   "outputs": [
    {
     "name": "stdout",
     "output_type": "stream",
     "text": [
      "+----------+---------+---------------+-------------+--------+----+\n",
      "|DayOfMonth|DayOfWeek|OriginAirportID|DestAirportID|DepDelay|Late|\n",
      "+----------+---------+---------------+-------------+--------+----+\n",
      "|        19|        5|          11433|        13303|      -3|   0|\n",
      "|        19|        5|          14869|        12478|       0|   0|\n",
      "|        19|        5|          14057|        14869|      -4|   0|\n",
      "+----------+---------+---------------+-------------+--------+----+\n",
      "only showing top 3 rows\n",
      "\n"
     ]
    }
   ],
   "source": [
    "#select columns\n",
    "data = flightDataFrame.select(\"DayOfMonth\", \"DayOfWeek\",\n",
    "                              \"OriginAirportID\", \"DestAirportID\",\n",
    "                              \"DepDelay\", ((col(\"ArrDelay\")>15).cast(\"Int\").alias(\"Late\")))\n",
    "data.show(3)"
   ]
  },
  {
   "cell_type": "markdown",
   "metadata": {},
   "source": [
    "## Divide data into training and testing data"
   ]
  },
  {
   "cell_type": "code",
   "execution_count": 5,
   "metadata": {},
   "outputs": [
    {
     "name": "stdout",
     "output_type": "stream",
     "text": [
      "Training data rows: 1892919 ; Testing data rows: 809299\n"
     ]
    }
   ],
   "source": [
    "#divide data into 70% for training and 30% for testing\n",
    "dividedData = data.randomSplit([0.7,0.3])\n",
    "trainingData = dividedData[0] #index-0 from dividedData\n",
    "testingData = dividedData[1] #index-1 from dividedData\n",
    "train_rows = trainingData.count()\n",
    "test_rows = testingData.count()\n",
    "\n",
    "print(\"Training data rows:\", train_rows, \"; Testing data rows:\", test_rows)"
   ]
  },
  {
   "cell_type": "markdown",
   "metadata": {},
   "source": [
    "## Prepare the training data"
   ]
  },
  {
   "cell_type": "code",
   "execution_count": 6,
   "metadata": {
    "scrolled": true
   },
   "outputs": [
    {
     "name": "stdout",
     "output_type": "stream",
     "text": [
      "+------------------------------+-----+\n",
      "|features                      |label|\n",
      "+------------------------------+-----+\n",
      "|[1.0,1.0,10140.0,10397.0,-2.0]|0    |\n",
      "|[1.0,1.0,10140.0,10821.0,8.0] |0    |\n",
      "|[1.0,1.0,10140.0,11259.0,-2.0]|0    |\n",
      "|[1.0,1.0,10140.0,11259.0,-1.0]|0    |\n",
      "+------------------------------+-----+\n",
      "only showing top 4 rows\n",
      "\n"
     ]
    }
   ],
   "source": [
    "#define an assambler\n",
    "assambler = VectorAssembler(inputCols = [\n",
    "    \"DayOfMonth\", \"DayOfWeek\", \"OriginAirportID\", \"DestAirportID\", \"DepDelay\"\n",
    "], outputCol=\"features\")\n",
    "\n",
    "#change our features into one column using our defined assambler\n",
    "trainingDataFinal = assambler.transform(trainingData).select(col(\"features\"),(col(\"Late\").alias(\"label\")))\n",
    "trainingDataFinal.show(truncate=False, n=4)"
   ]
  },
  {
   "cell_type": "markdown",
   "metadata": {},
   "source": [
    "## Train our classifier model using training data"
   ]
  },
  {
   "cell_type": "code",
   "execution_count": 7,
   "metadata": {},
   "outputs": [
    {
     "name": "stdout",
     "output_type": "stream",
     "text": [
      "Regression model is trained!\n"
     ]
    }
   ],
   "source": [
    "#call Spark Logistic Regression we import before\n",
    "classifier = LogisticRegression(labelCol=\"label\", featuresCol=\"features\", maxIter=10, regParam=0.3)\n",
    "#train the model\n",
    "model = classifier.fit(trainingDataFinal)\n",
    "print(\"Regression model is trained!\")"
   ]
  },
  {
   "cell_type": "markdown",
   "metadata": {},
   "source": [
    "## Prepare the testing data"
   ]
  },
  {
   "cell_type": "code",
   "execution_count": 8,
   "metadata": {},
   "outputs": [
    {
     "name": "stdout",
     "output_type": "stream",
     "text": [
      "+------------------------------+---------+\n",
      "|features                      |trueLabel|\n",
      "+------------------------------+---------+\n",
      "|[1.0,1.0,10140.0,10397.0,-4.0]|0        |\n",
      "|[1.0,1.0,10140.0,11259.0,-3.0]|0        |\n",
      "|[1.0,1.0,10140.0,11259.0,21.0]|1        |\n",
      "|[1.0,1.0,10140.0,11259.0,35.0]|1        |\n",
      "+------------------------------+---------+\n",
      "only showing top 4 rows\n",
      "\n"
     ]
    }
   ],
   "source": [
    "#change our feature data into one column using our defined assambler\n",
    "#just like what we did before in training data\n",
    "testingDataFinal = assambler.transform(testingData).select(col(\"features\"),(col(\"Late\").alias(\"trueLabel\")))\n",
    "testingDataFinal.show(truncate=False, n=4)"
   ]
  },
  {
   "cell_type": "markdown",
   "metadata": {},
   "source": [
    "## Predict the testing data using our trained model"
   ]
  },
  {
   "cell_type": "code",
   "execution_count": 11,
   "metadata": {},
   "outputs": [
    {
     "name": "stdout",
     "output_type": "stream",
     "text": [
      "+--------------------+----------+--------------------+---------+\n",
      "|            features|prediction|         probability|trueLabel|\n",
      "+--------------------+----------+--------------------+---------+\n",
      "|[1.0,1.0,10140.0,...|       0.0|[0.83108029435097...|        0|\n",
      "|[1.0,1.0,10140.0,...|       0.0|[0.82946711327995...|        0|\n",
      "|[1.0,1.0,10140.0,...|       0.0|[0.77677984881158...|        1|\n",
      "|[1.0,1.0,10140.0,...|       0.0|[0.74109455662351...|        1|\n",
      "|[1.0,1.0,10140.0,...|       0.0|[0.81097836180410...|        0|\n",
      "|[1.0,1.0,10140.0,...|       0.0|[0.84285621961931...|        0|\n",
      "|[1.0,1.0,10140.0,...|       0.0|[0.83532206891714...|        0|\n",
      "|[1.0,1.0,10140.0,...|       0.0|[0.82549990866712...|        0|\n",
      "|[1.0,1.0,10140.0,...|       0.0|[0.82348093630085...|        0|\n",
      "|[1.0,1.0,10140.0,...|       0.0|[0.81980305184469...|        0|\n",
      "+--------------------+----------+--------------------+---------+\n",
      "only showing top 10 rows\n",
      "\n"
     ]
    }
   ],
   "source": [
    "#predict testing data using our model\n",
    "prediction = model.transform(testingDataFinal)\n",
    "#choose the columns\n",
    "finalPrediction = prediction.select(\"features\",\"prediction\",\"probability\",\"trueLabel\")\n",
    "#show some prediction results\n",
    "finalPrediction.show(10)"
   ]
  },
  {
   "cell_type": "markdown",
   "metadata": {},
   "source": [
    "## Calculate how accurate our model performance"
   ]
  },
  {
   "cell_type": "code",
   "execution_count": 12,
   "metadata": {},
   "outputs": [
    {
     "name": "stdout",
     "output_type": "stream",
     "text": [
      "correct prediction: 667374 total data: 809299 , accuracy: 0.8246321816782178\n"
     ]
    }
   ],
   "source": [
    "correctPrediction = finalPrediction.filter(finalPrediction['prediction'] == finalPrediction['trueLabel']).count()\n",
    "totalData = finalPrediction.count()\n",
    "print(\"correct prediction:\", correctPrediction, \"total data:\", totalData, \", accuracy:\", correctPrediction/totalData)"
   ]
  },
  {
   "cell_type": "code",
   "execution_count": null,
   "metadata": {},
   "outputs": [],
   "source": []
  }
 ],
 "metadata": {
  "kernelspec": {
   "display_name": "Python 3",
   "language": "python",
   "name": "python3"
  },
  "language_info": {
   "codemirror_mode": {
    "name": "ipython",
    "version": 3
   },
   "file_extension": ".py",
   "mimetype": "text/x-python",
   "name": "python",
   "nbconvert_exporter": "python",
   "pygments_lexer": "ipython3",
   "version": "3.7.4"
  }
 },
 "nbformat": 4,
 "nbformat_minor": 2
}
